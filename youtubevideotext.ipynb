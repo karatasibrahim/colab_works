{
  "cells": [
    {
      "cell_type": "markdown",
      "metadata": {
        "id": "view-in-github",
        "colab_type": "text"
      },
      "source": [
        "<a href=\"https://colab.research.google.com/github/karatasibrahim/colab_works/blob/main/youtubevideotext.ipynb\" target=\"_parent\"><img src=\"https://colab.research.google.com/assets/colab-badge.svg\" alt=\"Open In Colab\"/></a>"
      ]
    },
    {
      "cell_type": "code",
      "execution_count": null,
      "metadata": {
        "colab": {
          "base_uri": "https://localhost:8080/"
        },
        "id": "NGuGm2_5Nxjl",
        "outputId": "caf14ed5-409e-4243-daff-74408cf46e6a"
      },
      "outputs": [
        {
          "name": "stdout",
          "output_type": "stream",
          "text": [
            "Looking in indexes: https://pypi.org/simple, https://us-python.pkg.dev/colab-wheels/public/simple/\n",
            "Collecting pytube\n",
            "  Downloading pytube-12.1.0-py3-none-any.whl (56 kB)\n",
            "\u001b[K     |████████████████████████████████| 56 kB 2.4 MB/s \n",
            "\u001b[?25hInstalling collected packages: pytube\n",
            "Successfully installed pytube-12.1.0\n"
          ]
        }
      ],
      "source": [
        "pip install pytube"
      ]
    },
    {
      "cell_type": "code",
      "execution_count": null,
      "metadata": {
        "id": "qd9-N4VyNzko"
      },
      "outputs": [],
      "source": [
        "import pytube"
      ]
    },
    {
      "cell_type": "code",
      "execution_count": null,
      "metadata": {
        "colab": {
          "base_uri": "https://localhost:8080/",
          "height": 36
        },
        "id": "LRfNedLrN23m",
        "outputId": "34b6dc76-ea4a-46b4-8608-ad5bcf365e44"
      },
      "outputs": [
        {
          "data": {
            "application/vnd.google.colaboratory.intrinsic+json": {
              "type": "string"
            },
            "text/plain": [
              "'/content/Tom Odell - Another Love (Official Video).mp4'"
            ]
          },
          "execution_count": 3,
          "metadata": {},
          "output_type": "execute_result"
        }
      ],
      "source": [
        "video='https://www.youtube.com/watch?v=MwpMEbgC7DA&list=RDMwpMEbgC7DA&start_radio=1'\n",
        "data=pytube.YouTube(video)\n",
        "audio=data.streams.get_audio_only()\n",
        "audio.download()"
      ]
    },
    {
      "cell_type": "code",
      "execution_count": null,
      "metadata": {
        "colab": {
          "base_uri": "https://localhost:8080/"
        },
        "id": "Gk8-CL31OJmp",
        "outputId": "6dd153d3-45ff-4b9b-bccd-96ca5753360b"
      },
      "outputs": [
        {
          "name": "stdout",
          "output_type": "stream",
          "text": [
            "\u001b[K     |████████████████████████████████| 4.9 MB 5.2 MB/s \n",
            "\u001b[K     |████████████████████████████████| 163 kB 55.9 MB/s \n",
            "\u001b[K     |████████████████████████████████| 6.6 MB 39.3 MB/s \n",
            "\u001b[?25h  Building wheel for whisper (setup.py) ... \u001b[?25l\u001b[?25hdone\n"
          ]
        }
      ],
      "source": [
        "pip install git+https://github.com/openai/whisper.git -q"
      ]
    },
    {
      "cell_type": "markdown",
      "metadata": {
        "id": "8W0wz48wOVD-"
      },
      "source": [
        "import whisper"
      ]
    },
    {
      "cell_type": "code",
      "execution_count": null,
      "metadata": {
        "id": "52PjbXkmO91H"
      },
      "outputs": [],
      "source": [
        "import whisper\n"
      ]
    },
    {
      "cell_type": "code",
      "execution_count": null,
      "metadata": {
        "id": "ZwgEdihdPBr4"
      },
      "outputs": [],
      "source": [
        "model = whisper.load_model(\"large\")"
      ]
    },
    {
      "cell_type": "code",
      "execution_count": null,
      "metadata": {
        "colab": {
          "background_save": true,
          "base_uri": "https://localhost:8080/"
        },
        "id": "FXaxkjUmPhF9",
        "outputId": "8007104d-466e-4e50-9e29-a2fb8783930a"
      },
      "outputs": [
        {
          "name": "stderr",
          "output_type": "stream",
          "text": [
            "/usr/local/lib/python3.7/dist-packages/whisper/transcribe.py:78: UserWarning: FP16 is not supported on CPU; using FP32 instead\n",
            "  warnings.warn(\"FP16 is not supported on CPU; using FP32 instead\")\n"
          ]
        },
        {
          "data": {
            "application/vnd.google.colaboratory.intrinsic+json": {
              "type": "string"
            },
            "text/plain": [
              "\" I wanna take you somewhere, you know I can't But it's so cold and I don't know where I brought you daffodils on a pretty string But they won't flower like the last spring And I wanna kiss you, make you feel alright I'm just so tired to share my nights I wanna cry and I wanna love But all my tears have been used up On another love, another love All my tears have been used up On another love, another love All my tears have been used up On another love, another love All my tears have been used up And if somebody hurts you, I wanna fight But my hand's been broken one too many times So I'll use my voice, I'll be so fucking rude Words, they always win, but I know I'll lose And I'd sing a song that would be just stars But I sang them all to another heart And I wanna cry, I wanna love But all my tears have been used up On another love, another love All my tears have been used up On another love, another love All my tears have been used up On another love, another love All my tears have been used up On another love, another love All my tears have been used up I wanna sing a song that would be just stars But I sang them all to another heart And I wanna cry, I wanna love But all my tears have been used up On another love, another love All my tears have been used up On another love, another love All my tears have been used up On another love, another love All my tears have been used up\""
            ]
          },
          "execution_count": 6,
          "metadata": {},
          "output_type": "execute_result"
        }
      ],
      "source": [
        "text=model.transcribe(\"ceviri.mp4\")\n",
        "text[\"text\"]"
      ]
    },
    {
      "cell_type": "code",
      "execution_count": null,
      "metadata": {
        "id": "7DrGlMCVPYab"
      },
      "outputs": [],
      "source": []
    }
  ],
  "metadata": {
    "colab": {
      "provenance": [],
      "toc_visible": true,
      "authorship_tag": "ABX9TyMH4jGHoGfyRHmMDtTaXN6T",
      "include_colab_link": true
    },
    "kernelspec": {
      "display_name": "Python 3",
      "name": "python3"
    },
    "language_info": {
      "name": "python"
    }
  },
  "nbformat": 4,
  "nbformat_minor": 0
}