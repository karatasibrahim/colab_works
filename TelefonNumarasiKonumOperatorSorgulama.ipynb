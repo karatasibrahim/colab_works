{
  "nbformat": 4,
  "nbformat_minor": 0,
  "metadata": {
    "colab": {
      "provenance": [],
      "authorship_tag": "ABX9TyP5czyibkspL4IdTjAOP8/+",
      "include_colab_link": true
    },
    "kernelspec": {
      "name": "python3",
      "display_name": "Python 3"
    },
    "language_info": {
      "name": "python"
    }
  },
  "cells": [
    {
      "cell_type": "markdown",
      "metadata": {
        "id": "view-in-github",
        "colab_type": "text"
      },
      "source": [
        "<a href=\"https://colab.research.google.com/github/karatasibrahim/colab_works/blob/main/TelefonNumarasiKonumOperatorSorgulama.ipynb\" target=\"_parent\"><img src=\"https://colab.research.google.com/assets/colab-badge.svg\" alt=\"Open In Colab\"/></a>"
      ]
    },
    {
      "cell_type": "code",
      "execution_count": 1,
      "metadata": {
        "colab": {
          "base_uri": "https://localhost:8080/"
        },
        "id": "lwPkaQSbtPhK",
        "outputId": "ac7c4275-1f8f-4bee-ad2f-03be88b7ed40"
      },
      "outputs": [
        {
          "output_type": "stream",
          "name": "stdout",
          "text": [
            "Looking in indexes: https://pypi.org/simple, https://us-python.pkg.dev/colab-wheels/public/simple/\n",
            "Collecting phonenumbers\n",
            "  Downloading phonenumbers-8.12.57-py2.py3-none-any.whl (2.6 MB)\n",
            "\u001b[K     |████████████████████████████████| 2.6 MB 4.3 MB/s \n",
            "\u001b[?25hInstalling collected packages: phonenumbers\n",
            "Successfully installed phonenumbers-8.12.57\n"
          ]
        }
      ],
      "source": [
        "pip install phonenumbers"
      ]
    },
    {
      "cell_type": "code",
      "source": [
        "import phonenumbers"
      ],
      "metadata": {
        "id": "yHsbtJbWtXqY"
      },
      "execution_count": 2,
      "outputs": []
    },
    {
      "cell_type": "code",
      "source": [
        "from phonenumbers import timezone,geocoder,carrier"
      ],
      "metadata": {
        "id": "lM9ZQLR5tgIj"
      },
      "execution_count": 4,
      "outputs": []
    },
    {
      "cell_type": "code",
      "source": [
        "number=input(\"Telefon numarasını yazını:\")\n",
        "phone=phonenumbers.parse(\"+\" +number)\n",
        " \n",
        "time=timezone.time_zones_for_number(phone)\n",
        "car=carrier.name_for_number(phone,\"tr\")\n",
        "reg=geocoder.description_for_number(phone,\"tr\")\n",
        "print(phone)\n",
        "print(\"Telefonun şuanki konumu: {0}\".format(time))\n",
        "print(\"Operator adı: {0}\".format(car))\n",
        "print(\"Sim kart kayıtlı yeri:{0}\".format(reg))"
      ],
      "metadata": {
        "id": "7QCACzHrtmkP"
      },
      "execution_count": null,
      "outputs": []
    },
    {
      "cell_type": "code",
      "source": [],
      "metadata": {
        "id": "EMz8O3TXvGpQ"
      },
      "execution_count": null,
      "outputs": []
    }
  ]
}